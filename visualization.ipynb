{
 "cells": [
  {
   "cell_type": "code",
   "execution_count": 2,
   "metadata": {},
   "outputs": [],
   "source": [
    "import os\n",
    "import keras\n",
    "import numpy as np\n",
    "import matplotlib.pyplot as plt\n",
    "from sklearn.model_selection import KFold\n",
    "from keras.utils import np_utils\n",
    "from keras.models import Sequential\n",
    "from keras.preprocessing.image import ImageDataGenerator\n",
    "from keras.layers import  Dense, Conv2D, Dropout, Flatten, MaxPooling2D\n",
    "from keras.datasets import cifar10\n",
    "from keras.callbacks import ModelCheckpoint\n",
    "from sklearn_evaluation import plot\n",
    "from sklearn.metrics import confusion_matrix\n",
    "from keras.models import model_from_json"
   ]
  },
  {
   "cell_type": "code",
   "execution_count": 8,
   "metadata": {},
   "outputs": [],
   "source": [
    "with open('./result/test/model_architecture.json', 'r') as f:\n",
    "    model = model_from_json(f.read())\n",
    "\n",
    "model.load_weights('./result/test/weights-42-0.90.hdf5')"
   ]
  },
  {
   "cell_type": "code",
   "execution_count": 9,
   "metadata": {
    "scrolled": true
   },
   "outputs": [
    {
     "name": "stdout",
     "output_type": "stream",
     "text": [
      "_________________________________________________________________\n",
      "Layer (type)                 Output Shape              Param #   \n",
      "=================================================================\n",
      "conv2d_7 (Conv2D)            (None, 64, 96, 96)        1600      \n",
      "_________________________________________________________________\n",
      "max_pooling2d_7 (MaxPooling2 (None, 32, 48, 96)        0         \n",
      "_________________________________________________________________\n",
      "conv2d_8 (Conv2D)            (None, 128, 48, 96)       102400    \n",
      "_________________________________________________________________\n",
      "max_pooling2d_8 (MaxPooling2 (None, 64, 24, 96)        0         \n",
      "_________________________________________________________________\n",
      "conv2d_9 (Conv2D)            (None, 256, 24, 96)       409600    \n",
      "_________________________________________________________________\n",
      "max_pooling2d_9 (MaxPooling2 (None, 21, 2, 96)         0         \n",
      "_________________________________________________________________\n",
      "flatten_3 (Flatten)          (None, 4032)              0         \n",
      "_________________________________________________________________\n",
      "dropout_3 (Dropout)          (None, 4032)              0         \n",
      "_________________________________________________________________\n",
      "dense_5 (Dense)              (None, 300)               1209900   \n",
      "_________________________________________________________________\n",
      "dense_6 (Dense)              (None, 8)                 2408      \n",
      "=================================================================\n",
      "Total params: 1,725,908\n",
      "Trainable params: 1,725,908\n",
      "Non-trainable params: 0\n",
      "_________________________________________________________________\n"
     ]
    }
   ],
   "source": [
    "model.summary()"
   ]
  },
  {
   "cell_type": "code",
   "execution_count": 6,
   "metadata": {},
   "outputs": [],
   "source": [
    "def make_cv_folds(X, y, folds, fold_num):\n",
    "    X_train = []\n",
    "    y_train = []\n",
    "    X_valid = []\n",
    "    y_valid = []\n",
    "\n",
    "    for index, fold in enumerate(folds):\n",
    "        if fold == fold_num:\n",
    "            X_valid.append(X[index])\n",
    "            y_valid.append(y[index])\n",
    "        else:\n",
    "            X_train.append(X[index])\n",
    "            y_train.append(y[index])\n",
    "    X_train = np.array(X_train)\n",
    "    y_train = np.array(y_train)\n",
    "    X_valid = np.array(X_valid)\n",
    "    y_valid = np.array(y_valid)\n",
    "\n",
    "\n",
    "    return X_train, y_train, X_valid, y_valid"
   ]
  },
  {
   "cell_type": "code",
   "execution_count": 11,
   "metadata": {},
   "outputs": [],
   "source": [
    "# Data loading\n",
    "dataset_path = 'save_data/npy_files'\n",
    "result_path = 'result/'\n",
    "X = np.load(os.path.join(dataset_path,'X.npy'))\n",
    "y = np.load(os.path.join(dataset_path,'y.npy'))\n",
    "folds = np.load(os.path.join(dataset_path,'folds.npy'))\n",
    "\n",
    "# rescale [0,255] -> [0,2]    \n",
    "X = X.astype('float32')/255*2\n",
    "\n",
    "\n",
    "val_fold = 0\n",
    "X_train, y_train, X_valid, y_valid = make_cv_folds(X, y, folds, val_fold)"
   ]
  },
  {
   "cell_type": "code",
   "execution_count": 15,
   "metadata": {},
   "outputs": [],
   "source": [
    "y_prob = model.predict(X_valid)\n",
    "y_classes = y_prob.argmax(axis=-1)"
   ]
  },
  {
   "cell_type": "code",
   "execution_count": 19,
   "metadata": {},
   "outputs": [
    {
     "data": {
      "text/plain": [
       "<matplotlib.axes._subplots.AxesSubplot at 0x7f89946b9240>"
      ]
     },
     "execution_count": 19,
     "metadata": {},
     "output_type": "execute_result"
    },
    {
     "data": {
      "image/png": "[encoded data removed]",
      "text/plain": [
       "<matplotlib.figure.Figure at 0x7f89946bfd30>"
      ]
     },
     "metadata": {},
     "output_type": "display_data"
    }
   ],
   "source": [
    "plot.confusion_matrix(y_valid, y_classes)"
   ]
  },
  {
   "cell_type": "code",
   "execution_count": 20,
   "metadata": {},
   "outputs": [],
   "source": [
    "from sklearn.metrics import classification_report"
   ]
  },
  {
   "cell_type": "code",
   "execution_count": 21,
   "metadata": {},
   "outputs": [
    {
     "name": "stdout",
     "output_type": "stream",
     "text": [
      "             precision    recall  f1-score   support\n",
      "\n",
      "          0       0.90      0.82      0.86        33\n",
      "          1       0.75      1.00      0.86         6\n",
      "          2       1.00      1.00      1.00         3\n",
      "          3       0.91      1.00      0.95        21\n",
      "          4       0.77      0.83      0.80        12\n",
      "          5       0.91      1.00      0.95        21\n",
      "          6       0.89      0.67      0.76        12\n",
      "          7       1.00      0.96      0.98        24\n",
      "\n",
      "avg / total       0.90      0.90      0.90       132\n",
      "\n"
     ]
    }
   ],
   "source": [
    "print(classification_report(y_valid, y_classes))"
   ]
  },
  {
   "cell_type": "code",
   "execution_count": null,
   "metadata": {},
   "outputs": [],
   "source": []
  }
 ],
 "metadata": {
  "kernelspec": {
   "display_name": "Python 3",
   "language": "python",
   "name": "python3"
  },
  "language_info": {
   "codemirror_mode": {
    "name": "ipython",
    "version": 3
   },
   "file_extension": ".py",
   "mimetype": "text/x-python",
   "name": "python",
   "nbconvert_exporter": "python",
   "pygments_lexer": "ipython3",
   "version": "3.5.2"
  }
 },
 "nbformat": 4,
 "nbformat_minor": 2
}
