{
 "cells": [
  {
   "cell_type": "code",
   "execution_count": 30,
   "metadata": {},
   "outputs": [],
   "source": [
    "import numpy as np"
   ]
  },
  {
   "cell_type": "code",
   "execution_count": 12,
   "metadata": {},
   "outputs": [],
   "source": [
    "def read_facs_table():\n",
    "    facs_table = {}\n",
    "    with open('../facs_table.txt', 'r') as f:\n",
    "        for line in f:\n",
    "            facs_data = line.split(' ')\n",
    "            facs_data[-1] = facs_data[-1][:-1]\n",
    "            facs_table[facs_data[0]] = facs_data[1:]\n",
    "    \n",
    "    return facs_table"
   ]
  },
  {
   "cell_type": "code",
   "execution_count": 13,
   "metadata": {},
   "outputs": [],
   "source": [
    "facs_table = read_facs_table()"
   ]
  },
  {
   "cell_type": "code",
   "execution_count": 14,
   "metadata": {},
   "outputs": [
    {
     "data": {
      "text/plain": [
       "{'0': ['no', 'action'],\n",
       " '1': ['Inner', 'Brow', 'Raiser'],\n",
       " '10': ['Upper', 'Lip', 'Raiser'],\n",
       " '11': ['Nasolabial', 'Deepener'],\n",
       " '12': ['Lip', 'Corner', 'Puller'],\n",
       " '13': ['Cheek', 'Puller'],\n",
       " '14': ['Dimpler'],\n",
       " '15': ['Lip', 'Corner', 'Depressor'],\n",
       " '16': ['Lower', 'Lip', 'Depressor'],\n",
       " '17': ['Chin', 'Raiser'],\n",
       " '18': ['Lip', 'Puckerer'],\n",
       " '2': ['Outer', 'Brow', 'Raiser'],\n",
       " '20': ['Lip', 'Stretcher'],\n",
       " '21': ['Neck', 'Tightener'],\n",
       " '23': ['Lip', 'Tightener'],\n",
       " '24': ['Lip', 'Pressor'],\n",
       " '25': ['Lips', 'Part'],\n",
       " '26': ['Jaw', 'Drop'],\n",
       " '27': ['Mouth', 'Stretch'],\n",
       " '28': ['Lip', 'Suck'],\n",
       " '29': ['Jaw', 'Thrust'],\n",
       " '31': ['Jaw', 'Clencher'],\n",
       " '34': ['Cheek', 'Puff'],\n",
       " '38': ['Nostril', 'Dilator'],\n",
       " '39': ['Nostril', 'Compressor'],\n",
       " '4': ['Brow', 'Lowerer'],\n",
       " '43': ['Eyes', 'Closed'],\n",
       " '5': ['Upper', 'Lip', 'Raiser'],\n",
       " '6': ['Cheek', 'Raiser'],\n",
       " '7': ['Lid', 'Tightener'],\n",
       " '9': ['Nose', 'Wrinkler']}"
      ]
     },
     "execution_count": 14,
     "metadata": {},
     "output_type": "execute_result"
    }
   ],
   "source": [
    "facs_table"
   ]
  },
  {
   "cell_type": "code",
   "execution_count": 34,
   "metadata": {},
   "outputs": [
    {
     "data": {
      "text/plain": [
       "{'Brow': 3,\n",
       " 'Cheek': 3,\n",
       " 'Chin': 1,\n",
       " 'Clencher': 1,\n",
       " 'Closed': 1,\n",
       " 'Compressor': 1,\n",
       " 'Corner': 2,\n",
       " 'Deepener': 1,\n",
       " 'Depressor': 2,\n",
       " 'Dilator': 1,\n",
       " 'Dimpler': 1,\n",
       " 'Drop': 1,\n",
       " 'Eyes': 1,\n",
       " 'Inner': 1,\n",
       " 'Jaw': 3,\n",
       " 'Lid': 1,\n",
       " 'Lip': 10,\n",
       " 'Lips': 1,\n",
       " 'Lower': 1,\n",
       " 'Lowerer': 1,\n",
       " 'Mouth': 1,\n",
       " 'Nasolabial': 1,\n",
       " 'Neck': 1,\n",
       " 'Nose': 1,\n",
       " 'Nostril': 2,\n",
       " 'Outer': 1,\n",
       " 'Part': 1,\n",
       " 'Pressor': 1,\n",
       " 'Puckerer': 1,\n",
       " 'Puff': 1,\n",
       " 'Puller': 2,\n",
       " 'Raiser': 6,\n",
       " 'Stretch': 1,\n",
       " 'Stretcher': 1,\n",
       " 'Suck': 1,\n",
       " 'Thrust': 1,\n",
       " 'Tightener': 3,\n",
       " 'Upper': 2,\n",
       " 'Wrinkler': 1,\n",
       " 'action': 1,\n",
       " 'no': 1}"
      ]
     },
     "execution_count": 34,
     "metadata": {},
     "output_type": "execute_result"
    }
   ],
   "source": [
    "voca_set"
   ]
  },
  {
   "cell_type": "code",
   "execution_count": 27,
   "metadata": {},
   "outputs": [],
   "source": [
    "def make_voca_set(facs_table):\n",
    "    voca_set = {}\n",
    "    for i in facs_table:\n",
    "        for j in facs_table[i]:\n",
    "            if j not in voca_set:\n",
    "                voca_set[j] = 1\n",
    "            else:\n",
    "                voca_set[j] += 1\n",
    "    return voca_set"
   ]
  },
  {
   "cell_type": "code",
   "execution_count": null,
   "metadata": {},
   "outputs": [],
   "source": [
    "def make_facs_text(facs_label, facs_table):\n",
    "    facs_text = []\n",
    "    for labels in facs_label:\n",
    "        facs_text_temp = []\n",
    "        if labels[0] == 0 and lable[1] != 0:\n",
    "            for label in labels:\n",
    "                facs_text_temp.append(facs_table[label])"
   ]
  },
  {
   "cell_type": "code",
   "execution_count": 32,
   "metadata": {},
   "outputs": [],
   "source": [
    "facs_label = np.load('../save_data/npy_files/facs_label.npy')"
   ]
  },
  {
   "cell_type": "code",
   "execution_count": 28,
   "metadata": {},
   "outputs": [],
   "source": [
    "voca_set = make_voca_set(facs_table)"
   ]
  },
  {
   "cell_type": "code",
   "execution_count": 33,
   "metadata": {},
   "outputs": [
    {
     "data": {
      "text/plain": [
       "41"
      ]
     },
     "execution_count": 33,
     "metadata": {},
     "output_type": "execute_result"
    }
   ],
   "source": [
    "len(voca_set)"
   ]
  },
  {
   "cell_type": "code",
   "execution_count": null,
   "metadata": {},
   "outputs": [],
   "source": [
    "\n",
    "    "
   ]
  }
 ],
 "metadata": {
  "kernelspec": {
   "display_name": "Python 2",
   "language": "python",
   "name": "python2"
  },
  "language_info": {
   "codemirror_mode": {
    "name": "ipython",
    "version": 2
   },
   "file_extension": ".py",
   "mimetype": "text/x-python",
   "name": "python",
   "nbconvert_exporter": "python",
   "pygments_lexer": "ipython2",
   "version": "2.7.12"
  }
 },
 "nbformat": 4,
 "nbformat_minor": 2
}
