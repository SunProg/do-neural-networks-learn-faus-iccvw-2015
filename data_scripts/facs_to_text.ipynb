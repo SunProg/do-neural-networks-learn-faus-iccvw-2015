{
 "cells": [
  {
   "cell_type": "code",
   "execution_count": 2,
   "metadata": {},
   "outputs": [],
   "source": [
    "import numpy as np"
   ]
  },
  {
   "cell_type": "code",
   "execution_count": 3,
   "metadata": {},
   "outputs": [],
   "source": [
    "def read_facs_table():\n",
    "    facs_table = {}\n",
    "    with open('../facs_table.txt', 'r') as f:\n",
    "        for line in f:\n",
    "            facs_data = line.split(' ')\n",
    "            facs_data[-1] = facs_data[-1][:-1]\n",
    "            facs_table[facs_data[0]] = facs_data[1:]\n",
    "    \n",
    "    return facs_table"
   ]
  },
  {
   "cell_type": "code",
   "execution_count": 4,
   "metadata": {},
   "outputs": [],
   "source": [
    "facs_table = read_facs_table()"
   ]
  },
  {
   "cell_type": "code",
   "execution_count": 5,
   "metadata": {
    "scrolled": true
   },
   "outputs": [
    {
     "data": {
      "text/plain": [
       "{'0': ['Neutral', 'Face'],\n",
       " '1': ['Inner', 'Brow', 'Raiser'],\n",
       " '10': ['Upper', 'Lip', 'Raiser'],\n",
       " '11': ['Nasolabial', 'Deepener'],\n",
       " '12': ['Lip', 'Corner', 'Puller'],\n",
       " '13': ['Cheek', 'Puller'],\n",
       " '14': ['Dimpler'],\n",
       " '15': ['Lip', 'Corner', 'Depressor'],\n",
       " '16': ['Lower', 'Lip', 'Depressor'],\n",
       " '17': ['Chin', 'Raiser'],\n",
       " '18': ['Lip', 'Puckerer'],\n",
       " '2': ['Outer', 'Brow', 'Raiser'],\n",
       " '20': ['Lip', 'Stretcher'],\n",
       " '21': ['Neck', 'Tightener'],\n",
       " '22': ['Lip', 'funneler'],\n",
       " '23': ['Lip', 'Tightener'],\n",
       " '24': ['Lip', 'Pressor'],\n",
       " '25': ['Lips', 'Part'],\n",
       " '26': ['Jaw', 'Drop'],\n",
       " '27': ['Mouth', 'Stretch'],\n",
       " '28': ['Lip', 'Suck'],\n",
       " '29': ['Jaw', 'Thrust'],\n",
       " '30': ['Jaw', 'sideways'],\n",
       " '31': ['Jaw', 'Clencher'],\n",
       " '32': ['Lip', 'bite'],\n",
       " '33': ['Cheek', 'blow'],\n",
       " '34': ['Cheek', 'Puff'],\n",
       " '35': ['Cheek', 'suck'],\n",
       " '36': ['Tongue', 'bulge'],\n",
       " '37': ['Lip', 'wipe'],\n",
       " '38': ['Nostril', 'Dilator'],\n",
       " '39': ['Nostril', 'Compressor'],\n",
       " '4': ['Brow', 'Lowerer'],\n",
       " '40': ['Sniff'],\n",
       " '41': ['Lid', 'droop'],\n",
       " '42': ['Slit'],\n",
       " '43': ['Eyes', 'Closed'],\n",
       " '44': ['Squint'],\n",
       " '45': ['Blink'],\n",
       " '46': ['Wink'],\n",
       " '5': ['Upper', 'Lip', 'Raiser'],\n",
       " '50': ['Speech'],\n",
       " '51': ['Head', 'turn', 'left'],\n",
       " '52': ['Head', 'turn', 'left'],\n",
       " '53': ['Head', 'up'],\n",
       " '54': ['Head', 'down'],\n",
       " '55': ['Head', 'tilt', 'left'],\n",
       " '56': ['Head', 'tilt', 'right'],\n",
       " '57': ['Head', 'forward\\t'],\n",
       " '58': ['Head', 'back'],\n",
       " '6': ['Cheek', 'Raiser'],\n",
       " '61': ['Eyes', 'turn', 'left'],\n",
       " '62': ['Eyes', 'turn', 'right'],\n",
       " '63': ['Eyes', 'up'],\n",
       " '64': ['Eyes', 'down'],\n",
       " '65': ['Walleye'],\n",
       " '66': ['Cross-eye'],\n",
       " '69': ['Eyes', 'positioned', 'to', 'look', 'at', 'other', 'person'],\n",
       " '7': ['Lid', 'Tightener'],\n",
       " '80': ['Swallow'],\n",
       " '81': ['Chewing'],\n",
       " '82': ['Shoulder', 'shrug'],\n",
       " '84': ['Head', 'shake', 'back', 'and', 'forth'],\n",
       " '85': ['Head', 'nod', 'up', 'and', 'down'],\n",
       " '9': ['Nose', 'Wrinkler'],\n",
       " '91': ['Flash'],\n",
       " '92': ['Partial', 'flash'],\n",
       " '97': ['Shiver/tremble'],\n",
       " '98': ['Fast', 'up-down', 'look']}"
      ]
     },
     "execution_count": 5,
     "metadata": {},
     "output_type": "execute_result"
    }
   ],
   "source": [
    "facs_table"
   ]
  },
  {
   "cell_type": "code",
   "execution_count": 7,
   "metadata": {},
   "outputs": [
    {
     "data": {
      "text/plain": [
       "69"
      ]
     },
     "execution_count": 7,
     "metadata": {},
     "output_type": "execute_result"
    }
   ],
   "source": [
    "len(facs_table)"
   ]
  },
  {
   "cell_type": "code",
   "execution_count": 38,
   "metadata": {},
   "outputs": [],
   "source": [
    "def make_voca_set(facs_table):\n",
    "    voca_set = {}\n",
    "    for i in facs_table:\n",
    "        for j in facs_table[i]:\n",
    "            if j not in voca_set:\n",
    "                voca_set[j] = 1\n",
    "            else:\n",
    "                voca_set[j] += 1\n",
    "    return voca_set"
   ]
  },
  {
   "cell_type": "code",
   "execution_count": 45,
   "metadata": {},
   "outputs": [],
   "source": [
    "def make_facs_text(facs_label, facs_table):\n",
    "    facs_text = []\n",
    "    for labels in facs_label:\n",
    "        facs_text_temp = []\n",
    "        for index,label in enumerate(labels):\n",
    "            if label == 0:\n",
    "                if index == 0:\n",
    "                    facs_text_temp += ['No', 'Action', 'Unit']\n",
    "                break\n",
    "            facs_text_temp += facs_table[str(label)]\n",
    "        facs_text.append(facs_text_temp)\n",
    "    \n",
    "    return facs_text"
   ]
  },
  {
   "cell_type": "code",
   "execution_count": 29,
   "metadata": {},
   "outputs": [],
   "source": [
    "facs_label = np.load('../save_data/npy_files/facs.npy')"
   ]
  },
  {
   "cell_type": "code",
   "execution_count": 46,
   "metadata": {},
   "outputs": [],
   "source": [
    "facs_text = make_facs_text(facs_label, facs_table)"
   ]
  },
  {
   "cell_type": "code",
   "execution_count": 56,
   "metadata": {},
   "outputs": [],
   "source": [
    "facs_text_np = np.array(facs_text)"
   ]
  },
  {
   "cell_type": "code",
   "execution_count": 58,
   "metadata": {},
   "outputs": [
    {
     "data": {
      "text/plain": [
       "(1307,)"
      ]
     },
     "execution_count": 58,
     "metadata": {},
     "output_type": "execute_result"
    }
   ],
   "source": [
    "facs_text_np.shape"
   ]
  },
  {
   "cell_type": "code",
   "execution_count": 59,
   "metadata": {},
   "outputs": [],
   "source": [
    "np.save('../save_data/npy_files/facs_text.npy', facs_text_np)"
   ]
  },
  {
   "cell_type": "code",
   "execution_count": null,
   "metadata": {},
   "outputs": [],
   "source": []
  }
 ],
 "metadata": {
  "kernelspec": {
   "display_name": "Python 3",
   "language": "python",
   "name": "python3"
  },
  "language_info": {
   "codemirror_mode": {
    "name": "ipython",
    "version": 3
   },
   "file_extension": ".py",
   "mimetype": "text/x-python",
   "name": "python",
   "nbconvert_exporter": "python",
   "pygments_lexer": "ipython3",
   "version": "3.6.4"
  }
 },
 "nbformat": 4,
 "nbformat_minor": 2
}
