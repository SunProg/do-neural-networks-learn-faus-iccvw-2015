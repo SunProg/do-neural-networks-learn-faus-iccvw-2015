{
 "cells": [
  {
   "cell_type": "code",
   "execution_count": 2,
   "metadata": {},
   "outputs": [
    {
     "name": "stderr",
     "output_type": "stream",
     "text": [
      "/usr/local/lib/python3.6/site-packages/h5py/__init__.py:36: FutureWarning: Conversion of the second argument of issubdtype from `float` to `np.floating` is deprecated. In future, it will be treated as `np.float64 == np.dtype(float).type`.\n",
      "  from ._conv import register_converters as _register_converters\n",
      "Using TensorFlow backend.\n"
     ]
    }
   ],
   "source": [
    "import os\n",
    "import keras\n",
    "from keras import backend as K\n",
    "import numpy as np\n",
    "import matplotlib.pyplot as plt\n",
    "from sklearn.model_selection import KFold\n",
    "from keras.utils import np_utils\n",
    "from keras.models import Sequential, Model\n",
    "from keras.layers.merge import concatenate\n",
    "from keras.preprocessing.image import ImageDataGenerator\n",
    "from keras.layers import  Input, Dense, Conv2D, Dropout, Flatten, MaxPooling2D, LSTM\n",
    "from keras.datasets import cifar10\n",
    "from keras.callbacks import ModelCheckpoint\n",
    "from keras.models import model_from_json"
   ]
  },
  {
   "cell_type": "code",
   "execution_count": 3,
   "metadata": {},
   "outputs": [],
   "source": [
    "def load_cnn_model(model_path='./result/test'):\n",
    "    with open(os.path.join(model_path, 'model_architecture.json'), 'r') as f:\n",
    "        model = model_from_json(f.read())\n",
    "\n",
    "    model.load_weights(os.path.join(model_path, 'weights-42-0.90.hdf5'))\n",
    "    \n",
    "    return model"
   ]
  },
  {
   "cell_type": "code",
   "execution_count": 4,
   "metadata": {},
   "outputs": [],
   "source": [
    "def load_rnn_model(model_path='./result/rnn_model'):\n",
    "    with open(os.path.join(model_path, 'model_architecture.json'), 'r') as f:\n",
    "        model = model_from_json(f.read())\n",
    "\n",
    "    model.load_weights(os.path.join(model_path, 'weights-improvement-97-0.86.hdf5'))\n",
    "    \n",
    "    return model"
   ]
  },
  {
   "cell_type": "code",
   "execution_count": 5,
   "metadata": {},
   "outputs": [],
   "source": [
    "def load_data(dataset_path='./npy_files'):\n",
    "    X = np.load(os.path.join(dataset_path,'X.npy'))\n",
    "    y = np.load(os.path.join(dataset_path,'y.npy'))\n",
    "    folds = np.load(os.path.join(dataset_path,'folds.npy'))\n",
    "    feature_class = np.load(os.path.join(dataset_path, 'feature_class.npy'))\n",
    "    facs = np.load(os.path.join(dataset_path,'facs_time.npy'))\n",
    "\n",
    "    # rescale [0,255] -> [0,2]    \n",
    "    X = X.astype('float32')/255*2\n",
    "\n",
    "    # one-hot encode the labels\n",
    "    num_classes = len(np.unique(y))\n",
    "    y = keras.utils.to_categorical(y, num_classes)\n",
    "\n",
    "    return X, y, folds, feature_class, facs"
   ]
  },
  {
   "cell_type": "code",
   "execution_count": 6,
   "metadata": {},
   "outputs": [],
   "source": [
    "def make_facs_y(facs):\n",
    "    facs_y = []\n",
    "    for inst in facs:\n",
    "        temp = np.zeros((15, 65))\n",
    "        temp[:-1] = inst[1:]\n",
    "        temp[-1][0] = 1\n",
    "        facs_y.append(temp)\n",
    "    facs_y = np.array(facs_y)\n",
    "    \n",
    "    return facs_y"
   ]
  },
  {
   "cell_type": "code",
   "execution_count": 7,
   "metadata": {},
   "outputs": [],
   "source": [
    "def make_cv_folds(X, y, feature_class, facs, folds, fold_num):\n",
    "    X_train = []\n",
    "    y_train = []\n",
    "    feature_class_train = []\n",
    "    facs_train = []\n",
    "    \n",
    "    X_valid = []\n",
    "    y_valid = []\n",
    "    feature_class_valid = []\n",
    "    facs_valid = []\n",
    "    \n",
    "    for index, fold in enumerate(folds):\n",
    "        if fold == fold_num:\n",
    "            X_valid.append(X[index])\n",
    "            y_valid.append(y[index])\n",
    "            feature_class_valid.append(feature_class[index])\n",
    "            facs_valid.append(facs[index])\n",
    "        else:\n",
    "            X_train.append(X[index])\n",
    "            y_train.append(y[index])\n",
    "            feature_class_train.append(feature_class[index])\n",
    "            facs_train.append(facs[index])\n",
    "    \n",
    "    X_train = np.array(X_train)\n",
    "    y_train = np.array(y_train)\n",
    "    X_valid = np.array(X_valid)\n",
    "    y_valid = np.array(y_valid)\n",
    "    \n",
    "    feature_class_train = np.array(feature_class_train)\n",
    "    feature_class_valid = np.array(feature_class_valid)\n",
    "\n",
    "    facs_train = np.array(facs_train)\n",
    "    facs_valid = np.array(facs_valid)\n",
    "    facs_y_train = make_facs_y(facs_train)\n",
    "    facs_y_valid = make_facs_y(facs_valid)\n",
    "\n",
    "    return (X_train, y_train, \n",
    "            X_valid, y_valid,\n",
    "            feature_class_train, feature_class_valid,\n",
    "            facs_train, facs_valid,\n",
    "            facs_y_train, facs_y_valid\n",
    "           )"
   ]
  },
  {
   "cell_type": "code",
   "execution_count": 8,
   "metadata": {},
   "outputs": [
    {
     "ename": "OSError",
     "evalue": "Unable to open file (unable to open file: name = './result/rnn_model/weights-improvement-97-0.86.hdf5', errno = 2, error message = 'No such file or directory', flags = 0, o_flags = 0)",
     "output_type": "error",
     "traceback": [
      "\u001b[0;31m---------------------------------------------------------------------------\u001b[0m",
      "\u001b[0;31mOSError\u001b[0m                                   Traceback (most recent call last)",
      "\u001b[0;32m<ipython-input-8-00b74ac43efe>\u001b[0m in \u001b[0;36m<module>\u001b[0;34m()\u001b[0m\n\u001b[1;32m      1\u001b[0m \u001b[0mcnn_model\u001b[0m \u001b[0;34m=\u001b[0m \u001b[0mload_cnn_model\u001b[0m\u001b[0;34m(\u001b[0m\u001b[0;34m)\u001b[0m\u001b[0;34m\u001b[0m\u001b[0m\n\u001b[0;32m----> 2\u001b[0;31m \u001b[0mrnn_model\u001b[0m \u001b[0;34m=\u001b[0m \u001b[0mload_rnn_model\u001b[0m\u001b[0;34m(\u001b[0m\u001b[0;34m)\u001b[0m\u001b[0;34m\u001b[0m\u001b[0m\n\u001b[0m",
      "\u001b[0;32m<ipython-input-4-fb8f1c15e8cd>\u001b[0m in \u001b[0;36mload_rnn_model\u001b[0;34m(model_path)\u001b[0m\n\u001b[1;32m      3\u001b[0m         \u001b[0mmodel\u001b[0m \u001b[0;34m=\u001b[0m \u001b[0mmodel_from_json\u001b[0m\u001b[0;34m(\u001b[0m\u001b[0mf\u001b[0m\u001b[0;34m.\u001b[0m\u001b[0mread\u001b[0m\u001b[0;34m(\u001b[0m\u001b[0;34m)\u001b[0m\u001b[0;34m)\u001b[0m\u001b[0;34m\u001b[0m\u001b[0m\n\u001b[1;32m      4\u001b[0m \u001b[0;34m\u001b[0m\u001b[0m\n\u001b[0;32m----> 5\u001b[0;31m     \u001b[0mmodel\u001b[0m\u001b[0;34m.\u001b[0m\u001b[0mload_weights\u001b[0m\u001b[0;34m(\u001b[0m\u001b[0mos\u001b[0m\u001b[0;34m.\u001b[0m\u001b[0mpath\u001b[0m\u001b[0;34m.\u001b[0m\u001b[0mjoin\u001b[0m\u001b[0;34m(\u001b[0m\u001b[0mmodel_path\u001b[0m\u001b[0;34m,\u001b[0m \u001b[0;34m'weights-improvement-97-0.86.hdf5'\u001b[0m\u001b[0;34m)\u001b[0m\u001b[0;34m)\u001b[0m\u001b[0;34m\u001b[0m\u001b[0m\n\u001b[0m\u001b[1;32m      6\u001b[0m \u001b[0;34m\u001b[0m\u001b[0m\n\u001b[1;32m      7\u001b[0m     \u001b[0;32mreturn\u001b[0m \u001b[0mmodel\u001b[0m\u001b[0;34m\u001b[0m\u001b[0m\n",
      "\u001b[0;32m/usr/local/lib/python3.6/site-packages/keras/engine/topology.py\u001b[0m in \u001b[0;36mload_weights\u001b[0;34m(self, filepath, by_name, skip_mismatch, reshape)\u001b[0m\n\u001b[1;32m   2656\u001b[0m         \u001b[0;32mif\u001b[0m \u001b[0mh5py\u001b[0m \u001b[0;32mis\u001b[0m \u001b[0;32mNone\u001b[0m\u001b[0;34m:\u001b[0m\u001b[0;34m\u001b[0m\u001b[0m\n\u001b[1;32m   2657\u001b[0m             \u001b[0;32mraise\u001b[0m \u001b[0mImportError\u001b[0m\u001b[0;34m(\u001b[0m\u001b[0;34m'`load_weights` requires h5py.'\u001b[0m\u001b[0;34m)\u001b[0m\u001b[0;34m\u001b[0m\u001b[0m\n\u001b[0;32m-> 2658\u001b[0;31m         \u001b[0;32mwith\u001b[0m \u001b[0mh5py\u001b[0m\u001b[0;34m.\u001b[0m\u001b[0mFile\u001b[0m\u001b[0;34m(\u001b[0m\u001b[0mfilepath\u001b[0m\u001b[0;34m,\u001b[0m \u001b[0mmode\u001b[0m\u001b[0;34m=\u001b[0m\u001b[0;34m'r'\u001b[0m\u001b[0;34m)\u001b[0m \u001b[0;32mas\u001b[0m \u001b[0mf\u001b[0m\u001b[0;34m:\u001b[0m\u001b[0;34m\u001b[0m\u001b[0m\n\u001b[0m\u001b[1;32m   2659\u001b[0m             \u001b[0;32mif\u001b[0m \u001b[0;34m'layer_names'\u001b[0m \u001b[0;32mnot\u001b[0m \u001b[0;32min\u001b[0m \u001b[0mf\u001b[0m\u001b[0;34m.\u001b[0m\u001b[0mattrs\u001b[0m \u001b[0;32mand\u001b[0m \u001b[0;34m'model_weights'\u001b[0m \u001b[0;32min\u001b[0m \u001b[0mf\u001b[0m\u001b[0;34m:\u001b[0m\u001b[0;34m\u001b[0m\u001b[0m\n\u001b[1;32m   2660\u001b[0m                 \u001b[0mf\u001b[0m \u001b[0;34m=\u001b[0m \u001b[0mf\u001b[0m\u001b[0;34m[\u001b[0m\u001b[0;34m'model_weights'\u001b[0m\u001b[0;34m]\u001b[0m\u001b[0;34m\u001b[0m\u001b[0m\n",
      "\u001b[0;32m/usr/local/lib/python3.6/site-packages/h5py/_hl/files.py\u001b[0m in \u001b[0;36m__init__\u001b[0;34m(self, name, mode, driver, libver, userblock_size, swmr, **kwds)\u001b[0m\n\u001b[1;32m    267\u001b[0m             \u001b[0;32mwith\u001b[0m \u001b[0mphil\u001b[0m\u001b[0;34m:\u001b[0m\u001b[0;34m\u001b[0m\u001b[0m\n\u001b[1;32m    268\u001b[0m                 \u001b[0mfapl\u001b[0m \u001b[0;34m=\u001b[0m \u001b[0mmake_fapl\u001b[0m\u001b[0;34m(\u001b[0m\u001b[0mdriver\u001b[0m\u001b[0;34m,\u001b[0m \u001b[0mlibver\u001b[0m\u001b[0;34m,\u001b[0m \u001b[0;34m**\u001b[0m\u001b[0mkwds\u001b[0m\u001b[0;34m)\u001b[0m\u001b[0;34m\u001b[0m\u001b[0m\n\u001b[0;32m--> 269\u001b[0;31m                 \u001b[0mfid\u001b[0m \u001b[0;34m=\u001b[0m \u001b[0mmake_fid\u001b[0m\u001b[0;34m(\u001b[0m\u001b[0mname\u001b[0m\u001b[0;34m,\u001b[0m \u001b[0mmode\u001b[0m\u001b[0;34m,\u001b[0m \u001b[0muserblock_size\u001b[0m\u001b[0;34m,\u001b[0m \u001b[0mfapl\u001b[0m\u001b[0;34m,\u001b[0m \u001b[0mswmr\u001b[0m\u001b[0;34m=\u001b[0m\u001b[0mswmr\u001b[0m\u001b[0;34m)\u001b[0m\u001b[0;34m\u001b[0m\u001b[0m\n\u001b[0m\u001b[1;32m    270\u001b[0m \u001b[0;34m\u001b[0m\u001b[0m\n\u001b[1;32m    271\u001b[0m                 \u001b[0;32mif\u001b[0m \u001b[0mswmr_support\u001b[0m\u001b[0;34m:\u001b[0m\u001b[0;34m\u001b[0m\u001b[0m\n",
      "\u001b[0;32m/usr/local/lib/python3.6/site-packages/h5py/_hl/files.py\u001b[0m in \u001b[0;36mmake_fid\u001b[0;34m(name, mode, userblock_size, fapl, fcpl, swmr)\u001b[0m\n\u001b[1;32m     97\u001b[0m         \u001b[0;32mif\u001b[0m \u001b[0mswmr\u001b[0m \u001b[0;32mand\u001b[0m \u001b[0mswmr_support\u001b[0m\u001b[0;34m:\u001b[0m\u001b[0;34m\u001b[0m\u001b[0m\n\u001b[1;32m     98\u001b[0m             \u001b[0mflags\u001b[0m \u001b[0;34m|=\u001b[0m \u001b[0mh5f\u001b[0m\u001b[0;34m.\u001b[0m\u001b[0mACC_SWMR_READ\u001b[0m\u001b[0;34m\u001b[0m\u001b[0m\n\u001b[0;32m---> 99\u001b[0;31m         \u001b[0mfid\u001b[0m \u001b[0;34m=\u001b[0m \u001b[0mh5f\u001b[0m\u001b[0;34m.\u001b[0m\u001b[0mopen\u001b[0m\u001b[0;34m(\u001b[0m\u001b[0mname\u001b[0m\u001b[0;34m,\u001b[0m \u001b[0mflags\u001b[0m\u001b[0;34m,\u001b[0m \u001b[0mfapl\u001b[0m\u001b[0;34m=\u001b[0m\u001b[0mfapl\u001b[0m\u001b[0;34m)\u001b[0m\u001b[0;34m\u001b[0m\u001b[0m\n\u001b[0m\u001b[1;32m    100\u001b[0m     \u001b[0;32melif\u001b[0m \u001b[0mmode\u001b[0m \u001b[0;34m==\u001b[0m \u001b[0;34m'r+'\u001b[0m\u001b[0;34m:\u001b[0m\u001b[0;34m\u001b[0m\u001b[0m\n\u001b[1;32m    101\u001b[0m         \u001b[0mfid\u001b[0m \u001b[0;34m=\u001b[0m \u001b[0mh5f\u001b[0m\u001b[0;34m.\u001b[0m\u001b[0mopen\u001b[0m\u001b[0;34m(\u001b[0m\u001b[0mname\u001b[0m\u001b[0;34m,\u001b[0m \u001b[0mh5f\u001b[0m\u001b[0;34m.\u001b[0m\u001b[0mACC_RDWR\u001b[0m\u001b[0;34m,\u001b[0m \u001b[0mfapl\u001b[0m\u001b[0;34m=\u001b[0m\u001b[0mfapl\u001b[0m\u001b[0;34m)\u001b[0m\u001b[0;34m\u001b[0m\u001b[0m\n",
      "\u001b[0;32mh5py/_objects.pyx\u001b[0m in \u001b[0;36mh5py._objects.with_phil.wrapper\u001b[0;34m()\u001b[0m\n",
      "\u001b[0;32mh5py/_objects.pyx\u001b[0m in \u001b[0;36mh5py._objects.with_phil.wrapper\u001b[0;34m()\u001b[0m\n",
      "\u001b[0;32mh5py/h5f.pyx\u001b[0m in \u001b[0;36mh5py.h5f.open\u001b[0;34m()\u001b[0m\n",
      "\u001b[0;31mOSError\u001b[0m: Unable to open file (unable to open file: name = './result/rnn_model/weights-improvement-97-0.86.hdf5', errno = 2, error message = 'No such file or directory', flags = 0, o_flags = 0)"
     ]
    }
   ],
   "source": [
    "cnn_model = load_cnn_model()\n",
    "rnn_model = load_rnn_model()"
   ]
  },
  {
   "cell_type": "code",
   "execution_count": 24,
   "metadata": {},
   "outputs": [
    {
     "name": "stdout",
     "output_type": "stream",
     "text": [
      "_________________________________________________________________\n",
      "Layer (type)                 Output Shape              Param #   \n",
      "=================================================================\n",
      "conv2d_7 (Conv2D)            (None, 64, 96, 96)        1600      \n",
      "_________________________________________________________________\n",
      "max_pooling2d_7 (MaxPooling2 (None, 32, 48, 96)        0         \n",
      "_________________________________________________________________\n",
      "conv2d_8 (Conv2D)            (None, 128, 48, 96)       102400    \n",
      "_________________________________________________________________\n",
      "max_pooling2d_8 (MaxPooling2 (None, 64, 24, 96)        0         \n",
      "_________________________________________________________________\n",
      "conv2d_9 (Conv2D)            (None, 256, 24, 96)       409600    \n",
      "_________________________________________________________________\n",
      "max_pooling2d_9 (MaxPooling2 (None, 21, 2, 96)         0         \n",
      "_________________________________________________________________\n",
      "flatten_3 (Flatten)          (None, 4032)              0         \n",
      "_________________________________________________________________\n",
      "dropout_3 (Dropout)          (None, 4032)              0         \n",
      "_________________________________________________________________\n",
      "dense_5 (Dense)              (None, 300)               1209900   \n",
      "_________________________________________________________________\n",
      "dense_6 (Dense)              (None, 8)                 2408      \n",
      "=================================================================\n",
      "Total params: 1,725,908\n",
      "Trainable params: 1,725,908\n",
      "Non-trainable params: 0\n",
      "_________________________________________________________________\n"
     ]
    }
   ],
   "source": [
    "cnn_model.summary()"
   ]
  },
  {
   "cell_type": "code",
   "execution_count": 9,
   "metadata": {},
   "outputs": [],
   "source": [
    "X, y, folds, feature_class, facs = load_data('./save_data/npy_files/')"
   ]
  },
  {
   "cell_type": "code",
   "execution_count": 10,
   "metadata": {},
   "outputs": [],
   "source": [
    "X_train, y_train, X_valid, y_valid, feature_class_train, feature_class_valid,facs_train, facs_valid,facs_y_train, facs_y_valid = make_cv_folds(X, y, feature_class,\n",
    "                                            facs, folds, 0)"
   ]
  },
  {
   "cell_type": "code",
   "execution_count": 19,
   "metadata": {},
   "outputs": [
    {
     "data": {
      "text/plain": [
       "(1307, 15, 65)"
      ]
     },
     "execution_count": 19,
     "metadata": {},
     "output_type": "execute_result"
    }
   ],
   "source": [
    "facs.shape"
   ]
  },
  {
   "cell_type": "code",
   "execution_count": 20,
   "metadata": {},
   "outputs": [
    {
     "data": {
      "text/plain": [
       "array([[[[0.08627451, 0.07843138, 0.08627451, ..., 0.        ,\n",
       "          0.02352941, 0.8       ],\n",
       "         [0.03921569, 0.03921569, 0.03137255, ..., 0.        ,\n",
       "          0.        , 0.42352942],\n",
       "         [0.04705882, 0.04705882, 0.03921569, ..., 0.        ,\n",
       "          0.        , 0.02352941],\n",
       "         ...,\n",
       "         [0.7529412 , 0.7294118 , 0.6745098 , ..., 1.1686275 ,\n",
       "          1.2078432 , 1.2705883 ],\n",
       "         [0.6431373 , 0.63529414, 0.57254905, ..., 1.1686275 ,\n",
       "          1.0196079 , 1.0196079 ],\n",
       "         [0.6509804 , 0.49411765, 0.4627451 , ..., 1.1529412 ,\n",
       "          1.2313726 , 1.2941177 ]]],\n",
       "\n",
       "\n",
       "       [[[0.04705882, 0.07058824, 0.07843138, ..., 0.03921569,\n",
       "          0.07843138, 0.05490196],\n",
       "         [0.04705882, 0.03921569, 0.03921569, ..., 0.03921569,\n",
       "          0.07058824, 0.03137255],\n",
       "         [0.03137255, 0.03137255, 0.02352941, ..., 0.02352941,\n",
       "          0.05490196, 0.03921569],\n",
       "         ...,\n",
       "         [0.7137255 , 0.6745098 , 0.627451  , ..., 1.1058824 ,\n",
       "          1.0980393 , 1.1215687 ],\n",
       "         [0.83137256, 0.8       , 0.7764706 , ..., 1.1137255 ,\n",
       "          1.0901961 , 1.1215687 ],\n",
       "         [0.74509805, 0.6745098 , 0.68235296, ..., 0.98039216,\n",
       "          1.082353  , 1.1764706 ]]],\n",
       "\n",
       "\n",
       "       [[[0.03921569, 0.03137255, 0.03921569, ..., 0.07058824,\n",
       "          0.04705882, 0.01568628],\n",
       "         [0.04705882, 0.03921569, 0.04705882, ..., 0.04705882,\n",
       "          0.00784314, 0.        ],\n",
       "         [0.00784314, 0.03137255, 0.03137255, ..., 0.05490196,\n",
       "          0.        , 0.        ],\n",
       "         ...,\n",
       "         [0.85490197, 0.7372549 , 0.6901961 , ..., 1.082353  ,\n",
       "          1.1294118 , 1.1607844 ],\n",
       "         [0.6901961 , 0.7137255 , 0.72156864, ..., 1.1607844 ,\n",
       "          1.2       , 1.1529412 ],\n",
       "         [0.7529412 , 0.6117647 , 0.5568628 , ..., 1.1921569 ,\n",
       "          1.254902  , 1.2470589 ]]],\n",
       "\n",
       "\n",
       "       ...,\n",
       "\n",
       "\n",
       "       [[[0.40784314, 0.4       , 0.41568628, ..., 0.43137255,\n",
       "          0.53333336, 0.5411765 ],\n",
       "         [0.36078432, 0.3529412 , 0.39215687, ..., 0.30588236,\n",
       "          0.42352942, 0.5176471 ],\n",
       "         [0.2901961 , 0.32941177, 0.2901961 , ..., 0.4627451 ,\n",
       "          0.43137255, 0.54901963],\n",
       "         ...,\n",
       "         [0.3137255 , 0.25882354, 0.25882354, ..., 0.3529412 ,\n",
       "          0.4392157 , 0.4392157 ],\n",
       "         [0.34509805, 0.25882354, 0.2509804 , ..., 0.3137255 ,\n",
       "          0.4       , 0.5019608 ],\n",
       "         [0.3137255 , 0.23529412, 0.27450982, ..., 0.41568628,\n",
       "          0.39215687, 0.47843137]]],\n",
       "\n",
       "\n",
       "       [[[0.47058824, 0.45490196, 0.4       , ..., 0.5411765 ,\n",
       "          0.59607846, 0.45490196],\n",
       "         [0.3372549 , 0.40784314, 0.42352942, ..., 0.36862746,\n",
       "          0.50980395, 0.5176471 ],\n",
       "         [0.32156864, 0.36078432, 0.36078432, ..., 0.3529412 ,\n",
       "          0.44705883, 0.5176471 ],\n",
       "         ...,\n",
       "         [0.29803923, 0.28235295, 0.23529412, ..., 0.36078432,\n",
       "          0.4392157 , 0.45490196],\n",
       "         [0.32156864, 0.29803923, 0.2509804 , ..., 0.3372549 ,\n",
       "          0.40784314, 0.49411765],\n",
       "         [0.27450982, 0.25882354, 0.23529412, ..., 0.3764706 ,\n",
       "          0.40784314, 0.49411765]]],\n",
       "\n",
       "\n",
       "       [[[0.45490196, 0.41568628, 0.32941177, ..., 0.47843137,\n",
       "          0.6039216 , 0.5411765 ],\n",
       "         [0.39215687, 0.41568628, 0.42352942, ..., 0.3529412 ,\n",
       "          0.5176471 , 0.50980395],\n",
       "         [0.32156864, 0.2901961 , 0.3529412 , ..., 0.36078432,\n",
       "          0.45490196, 0.50980395],\n",
       "         ...,\n",
       "         [0.27450982, 0.27450982, 0.3137255 , ..., 0.3529412 ,\n",
       "          0.5254902 , 0.4862745 ],\n",
       "         [0.2901961 , 0.2509804 , 0.2509804 , ..., 0.3137255 ,\n",
       "          0.41568628, 0.45490196],\n",
       "         [0.29803923, 0.25882354, 0.2509804 , ..., 0.3372549 ,\n",
       "          0.38431373, 0.5254902 ]]]], dtype=float32)"
      ]
     },
     "execution_count": 20,
     "metadata": {},
     "output_type": "execute_result"
    }
   ],
   "source": [
    "X"
   ]
  },
  {
   "cell_type": "code",
   "execution_count": 33,
   "metadata": {},
   "outputs": [
    {
     "data": {
      "text/plain": [
       "(1307, 15, 65)"
      ]
     },
     "execution_count": 33,
     "metadata": {},
     "output_type": "execute_result"
    }
   ],
   "source": [
    "facs.shape"
   ]
  },
  {
   "cell_type": "code",
   "execution_count": 27,
   "metadata": {},
   "outputs": [
    {
     "name": "stdout",
     "output_type": "stream",
     "text": [
      "__________________________________________________________________________________________________\n",
      "Layer (type)                    Output Shape         Param #     Connected to                     \n",
      "==================================================================================================\n",
      "input_2 (InputLayer)            (None, 15, 65)       0                                            \n",
      "__________________________________________________________________________________________________\n",
      "lstm_1 (LSTM)                   (None, 15, 250)      316000      input_2[0][0]                    \n",
      "__________________________________________________________________________________________________\n",
      "input_3 (InputLayer)            (None, 15, 4040)     0                                            \n",
      "__________________________________________________________________________________________________\n",
      "concatenate_1 (Concatenate)     (None, 15, 4290)     0           lstm_1[0][0]                     \n",
      "                                                                 input_3[0][0]                    \n",
      "__________________________________________________________________________________________________\n",
      "lstm_2 (LSTM)                   (None, 15, 250)      4541000     concatenate_1[0][0]              \n",
      "__________________________________________________________________________________________________\n",
      "dense_3 (Dense)                 (None, 15, 65)       16315       lstm_2[0][0]                     \n",
      "==================================================================================================\n",
      "Total params: 4,873,315\n",
      "Trainable params: 4,873,315\n",
      "Non-trainable params: 0\n",
      "__________________________________________________________________________________________________\n"
     ]
    }
   ],
   "source": [
    "rnn_model.summary()"
   ]
  },
  {
   "cell_type": "code",
   "execution_count": 23,
   "metadata": {},
   "outputs": [
    {
     "data": {
      "text/plain": [
       "(1307, 15, 4040)"
      ]
     },
     "execution_count": 23,
     "metadata": {},
     "output_type": "execute_result"
    }
   ],
   "source": [
    "feature_class.shape"
   ]
  },
  {
   "cell_type": "code",
   "execution_count": 35,
   "metadata": {},
   "outputs": [],
   "source": [
    "facs_prob = rnn_model.predict([facs_valid, feature_class_valid])"
   ]
  },
  {
   "cell_type": "code",
   "execution_count": 109,
   "metadata": {},
   "outputs": [],
   "source": [
    "facs_classes = facs_prob.argmax(axis=2)\n",
    "facs_valid = facs_y_valid.argmax(axis=2)"
   ]
  },
  {
   "cell_type": "code",
   "execution_count": 42,
   "metadata": {},
   "outputs": [
    {
     "data": {
      "text/plain": [
       "(132, 15)"
      ]
     },
     "execution_count": 42,
     "metadata": {},
     "output_type": "execute_result"
    }
   ],
   "source": [
    "facs_classes.shape"
   ]
  },
  {
   "cell_type": "code",
   "execution_count": 104,
   "metadata": {},
   "outputs": [
    {
     "data": {
      "text/plain": [
       "array([ 9, 17,  7,  0,  0,  0,  0,  0,  0,  0,  0,  0,  0,  0,  0])"
      ]
     },
     "execution_count": 104,
     "metadata": {},
     "output_type": "execute_result"
    }
   ],
   "source": [
    "facs_classes[2]"
   ]
  },
  {
   "cell_type": "code",
   "execution_count": 110,
   "metadata": {},
   "outputs": [],
   "source": [
    "facs_predict = facs_classes.reshape(-1,)\n",
    "facs_valid = facs_valid.reshape(-1,)"
   ]
  },
  {
   "cell_type": "code",
   "execution_count": 111,
   "metadata": {},
   "outputs": [
    {
     "data": {
      "text/plain": [
       "(1980,)"
      ]
     },
     "execution_count": 111,
     "metadata": {},
     "output_type": "execute_result"
    }
   ],
   "source": [
    "facs_predict.shape"
   ]
  },
  {
   "cell_type": "code",
   "execution_count": 112,
   "metadata": {},
   "outputs": [
    {
     "data": {
      "text/plain": [
       "(1980,)"
      ]
     },
     "execution_count": 112,
     "metadata": {},
     "output_type": "execute_result"
    }
   ],
   "source": [
    "facs_valid.shape"
   ]
  },
  {
   "cell_type": "code",
   "execution_count": 21,
   "metadata": {},
   "outputs": [
    {
     "ename": "ValueError",
     "evalue": "The truth value of an array with more than one element is ambiguous. Use a.any() or a.all()",
     "output_type": "error",
     "traceback": [
      "\u001b[0;31m---------------------------------------------------------------------------\u001b[0m",
      "\u001b[0;31mValueError\u001b[0m                                Traceback (most recent call last)",
      "\u001b[0;32m<ipython-input-21-5f3e7ccb2d3e>\u001b[0m in \u001b[0;36m<module>\u001b[0;34m()\u001b[0m\n\u001b[1;32m      2\u001b[0m \u001b[0mcount_true\u001b[0m \u001b[0;34m=\u001b[0m \u001b[0;36m0\u001b[0m\u001b[0;34m\u001b[0m\u001b[0m\n\u001b[1;32m      3\u001b[0m \u001b[0;32mfor\u001b[0m \u001b[0mindex\u001b[0m\u001b[0;34m,\u001b[0m \u001b[0mvalid\u001b[0m \u001b[0;32min\u001b[0m \u001b[0menumerate\u001b[0m\u001b[0;34m(\u001b[0m\u001b[0mfacs_valid\u001b[0m\u001b[0;34m)\u001b[0m\u001b[0;34m:\u001b[0m\u001b[0;34m\u001b[0m\u001b[0m\n\u001b[0;32m----> 4\u001b[0;31m     \u001b[0;32mif\u001b[0m \u001b[0mvalid\u001b[0m \u001b[0;34m!=\u001b[0m \u001b[0;36m0\u001b[0m\u001b[0;34m:\u001b[0m\u001b[0;34m\u001b[0m\u001b[0m\n\u001b[0m\u001b[1;32m      5\u001b[0m         \u001b[0mcount\u001b[0m \u001b[0;34m+=\u001b[0m \u001b[0;36m1\u001b[0m\u001b[0;34m\u001b[0m\u001b[0m\n\u001b[1;32m      6\u001b[0m     \u001b[0mprint\u001b[0m\u001b[0;34m(\u001b[0m\u001b[0mfacs_predict\u001b[0m\u001b[0;34m[\u001b[0m\u001b[0mindex\u001b[0m\u001b[0;34m]\u001b[0m\u001b[0;34m,\u001b[0m \u001b[0mvalid\u001b[0m\u001b[0;34m)\u001b[0m\u001b[0;34m\u001b[0m\u001b[0m\n",
      "\u001b[0;31mValueError\u001b[0m: The truth value of an array with more than one element is ambiguous. Use a.any() or a.all()"
     ]
    }
   ],
   "source": [
    "count = 0\n",
    "count_true = 0\n",
    "for index, valid in enumerate(facs_valid):\n",
    "    if valid != 0:\n",
    "        count += 1\n",
    "    print(facs_predict[index], valid)\n",
    "    if facs_predict[index] == valid and valid != 0:\n",
    "        count_true += 1\n",
    "\n",
    "print(count_true)\n",
    "print(count_true/count)"
   ]
  },
  {
   "cell_type": "code",
   "execution_count": null,
   "metadata": {},
   "outputs": [],
   "source": []
  }
 ],
 "metadata": {
  "kernelspec": {
   "display_name": "Python 3",
   "language": "python",
   "name": "python3"
  },
  "language_info": {
   "codemirror_mode": {
    "name": "ipython",
    "version": 3
   },
   "file_extension": ".py",
   "mimetype": "text/x-python",
   "name": "python",
   "nbconvert_exporter": "python",
   "pygments_lexer": "ipython3",
   "version": "3.6.4"
  }
 },
 "nbformat": 4,
 "nbformat_minor": 2
}
